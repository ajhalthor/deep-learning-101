{
  "nbformat": 4,
  "nbformat_minor": 0,
  "metadata": {
    "colab": {
      "provenance": []
    },
    "kernelspec": {
      "name": "python3",
      "display_name": "Python 3"
    },
    "language_info": {
      "name": "python"
    }
  },
  "cells": [
    {
      "cell_type": "markdown",
      "source": [
        "This notebook will compare a neural network that uses activation functions vs one that does not use activation functions"
      ],
      "metadata": {
        "id": "bk9frofMTyd1"
      }
    },
    {
      "cell_type": "code",
      "source": [
        "import numpy as np\n",
        "import torch\n",
        "import torch.nn as nn\n",
        "import torch.optim as optim\n",
        "import torch.nn.functional as F\n",
        "from sklearn.datasets import make_classification\n",
        "from sklearn.model_selection import train_test_split\n",
        "from sklearn.metrics import accuracy_score"
      ],
      "metadata": {
        "id": "qTdzDwH7TNq_"
      },
      "execution_count": null,
      "outputs": []
    },
    {
      "cell_type": "code",
      "source": [
        "INPUT_DIM = 100 # Number of features"
      ],
      "metadata": {
        "id": "-adxKIgIXqPN"
      },
      "execution_count": null,
      "outputs": []
    },
    {
      "cell_type": "code",
      "source": [
        "# Generate synthetic data\n",
        "X, y = make_classification(\n",
        "    n_samples=5000,\n",
        "    n_features=INPUT_DIM,\n",
        "    n_informative=INPUT_DIM,\n",
        "    n_redundant=0,\n",
        "    random_state=7\n",
        ")"
      ],
      "metadata": {
        "id": "JbqXuV5bTTnN"
      },
      "execution_count": null,
      "outputs": []
    },
    {
      "cell_type": "code",
      "source": [
        "X.shape, y.shape"
      ],
      "metadata": {
        "colab": {
          "base_uri": "https://localhost:8080/"
        },
        "id": "CzCe5KauTUIi",
        "outputId": "6871f657-a46b-4efe-c2a3-4527165d1168"
      },
      "execution_count": null,
      "outputs": [
        {
          "output_type": "execute_result",
          "data": {
            "text/plain": [
              "((5000, 100), (5000,))"
            ]
          },
          "metadata": {},
          "execution_count": 4
        }
      ]
    },
    {
      "cell_type": "code",
      "source": [
        "# Split the data into training and testing sets\n",
        "X_train, X_test, y_train, y_test = train_test_split(X, y, test_size=0.2, random_state=42)"
      ],
      "metadata": {
        "id": "eUMc-SY6Tbso"
      },
      "execution_count": null,
      "outputs": []
    },
    {
      "cell_type": "code",
      "source": [
        "X_train.shape, X_test.shape"
      ],
      "metadata": {
        "colab": {
          "base_uri": "https://localhost:8080/"
        },
        "id": "xg6BWpkVT8VC",
        "outputId": "390fb3cc-a755-41ad-8e17-39fba1d40470"
      },
      "execution_count": null,
      "outputs": [
        {
          "output_type": "execute_result",
          "data": {
            "text/plain": [
              "((4000, 100), (1000, 100))"
            ]
          },
          "metadata": {},
          "execution_count": 6
        }
      ]
    },
    {
      "cell_type": "code",
      "source": [
        "# Convert data to PyTorch tensors\n",
        "X_train_tensor = torch.FloatTensor(X_train)\n",
        "y_train_tensor = torch.FloatTensor(y_train)\n",
        "X_test_tensor = torch.FloatTensor(X_test)\n",
        "y_test_tensor = torch.FloatTensor(y_test)"
      ],
      "metadata": {
        "id": "nYb-cPzrTd_u"
      },
      "execution_count": null,
      "outputs": []
    },
    {
      "cell_type": "code",
      "source": [
        "class NeuralNetwork(nn.Module):\n",
        "    def __init__(self, use_activation):\n",
        "        super(NeuralNetwork, self).__init__()\n",
        "        self.fc1 = nn.Linear(INPUT_DIM, 16)\n",
        "        self.fc2 = nn.Linear(16, 1)\n",
        "        self.use_activation = use_activation\n",
        "\n",
        "    def forward(self, x):\n",
        "        x = F.relu(self.fc1(x)) if self.use_activation else self.fc1(x)\n",
        "        x = torch.sigmoid(self.fc2(x))\n",
        "        return x"
      ],
      "metadata": {
        "id": "e2xR_W4kbhyo"
      },
      "execution_count": null,
      "outputs": []
    },
    {
      "cell_type": "code",
      "source": [
        "# Function to train and evaluate the model\n",
        "def train_and_evaluate(model):\n",
        "    criterion = nn.BCELoss()\n",
        "    optimizer = optim.Adam(model.parameters(), lr=0.001)\n",
        "\n",
        "    # Training loop\n",
        "    for epoch in range(100):\n",
        "        optimizer.zero_grad()\n",
        "        outputs = model(X_train_tensor)\n",
        "        loss = criterion(outputs, y_train_tensor.view(-1, 1))\n",
        "        if epoch % 5 == 0:\n",
        "          print(loss)\n",
        "        loss.backward()\n",
        "        optimizer.step()\n",
        "\n",
        "    # Evaluate the model on the test set\n",
        "    with torch.no_grad():\n",
        "        model.eval()\n",
        "        pred = model(X_test_tensor)\n",
        "        predictions = (pred > 0.5).float().numpy()\n",
        "        accuracy = accuracy_score(y_test_tensor, predictions)\n",
        "\n",
        "    return accuracy"
      ],
      "metadata": {
        "id": "QIBerxSGTiru"
      },
      "execution_count": null,
      "outputs": []
    },
    {
      "cell_type": "code",
      "source": [
        "# Create and train the model without activation functions\n",
        "model_without_activation = NeuralNetwork(use_activation=False)\n",
        "accuracy_without_activation = train_and_evaluate(model_without_activation)"
      ],
      "metadata": {
        "colab": {
          "base_uri": "https://localhost:8080/"
        },
        "id": "SfMpJeChZjfd",
        "outputId": "6c5828ed-1f18-45df-fec7-adb62edee509"
      },
      "execution_count": null,
      "outputs": [
        {
          "output_type": "stream",
          "name": "stdout",
          "text": [
            "tensor(0.9071, grad_fn=<BinaryCrossEntropyBackward0>)\n",
            "tensor(0.7036, grad_fn=<BinaryCrossEntropyBackward0>)\n",
            "tensor(0.5720, grad_fn=<BinaryCrossEntropyBackward0>)\n",
            "tensor(0.4863, grad_fn=<BinaryCrossEntropyBackward0>)\n",
            "tensor(0.4303, grad_fn=<BinaryCrossEntropyBackward0>)\n",
            "tensor(0.3936, grad_fn=<BinaryCrossEntropyBackward0>)\n",
            "tensor(0.3688, grad_fn=<BinaryCrossEntropyBackward0>)\n",
            "tensor(0.3513, grad_fn=<BinaryCrossEntropyBackward0>)\n",
            "tensor(0.3386, grad_fn=<BinaryCrossEntropyBackward0>)\n",
            "tensor(0.3291, grad_fn=<BinaryCrossEntropyBackward0>)\n",
            "tensor(0.3219, grad_fn=<BinaryCrossEntropyBackward0>)\n",
            "tensor(0.3162, grad_fn=<BinaryCrossEntropyBackward0>)\n",
            "tensor(0.3118, grad_fn=<BinaryCrossEntropyBackward0>)\n",
            "tensor(0.3082, grad_fn=<BinaryCrossEntropyBackward0>)\n",
            "tensor(0.3053, grad_fn=<BinaryCrossEntropyBackward0>)\n",
            "tensor(0.3030, grad_fn=<BinaryCrossEntropyBackward0>)\n",
            "tensor(0.3011, grad_fn=<BinaryCrossEntropyBackward0>)\n",
            "tensor(0.2996, grad_fn=<BinaryCrossEntropyBackward0>)\n",
            "tensor(0.2984, grad_fn=<BinaryCrossEntropyBackward0>)\n",
            "tensor(0.2974, grad_fn=<BinaryCrossEntropyBackward0>)\n"
          ]
        }
      ]
    },
    {
      "cell_type": "code",
      "source": [
        "# Create and train the model with activation functions\n",
        "model_with_activation = NeuralNetwork(use_activation=True)\n",
        "accuracy_with_activation = train_and_evaluate(model_with_activation)"
      ],
      "metadata": {
        "colab": {
          "base_uri": "https://localhost:8080/"
        },
        "id": "ulxda_SVTuAL",
        "outputId": "314684c2-c32a-41ce-cba9-d54a7e8ef29a"
      },
      "execution_count": null,
      "outputs": [
        {
          "output_type": "stream",
          "name": "stdout",
          "text": [
            "tensor(1.0072, grad_fn=<BinaryCrossEntropyBackward0>)\n",
            "tensor(0.8534, grad_fn=<BinaryCrossEntropyBackward0>)\n",
            "tensor(0.7328, grad_fn=<BinaryCrossEntropyBackward0>)\n",
            "tensor(0.6412, grad_fn=<BinaryCrossEntropyBackward0>)\n",
            "tensor(0.5724, grad_fn=<BinaryCrossEntropyBackward0>)\n",
            "tensor(0.5201, grad_fn=<BinaryCrossEntropyBackward0>)\n",
            "tensor(0.4793, grad_fn=<BinaryCrossEntropyBackward0>)\n",
            "tensor(0.4465, grad_fn=<BinaryCrossEntropyBackward0>)\n",
            "tensor(0.4188, grad_fn=<BinaryCrossEntropyBackward0>)\n",
            "tensor(0.3950, grad_fn=<BinaryCrossEntropyBackward0>)\n",
            "tensor(0.3742, grad_fn=<BinaryCrossEntropyBackward0>)\n",
            "tensor(0.3557, grad_fn=<BinaryCrossEntropyBackward0>)\n",
            "tensor(0.3388, grad_fn=<BinaryCrossEntropyBackward0>)\n",
            "tensor(0.3231, grad_fn=<BinaryCrossEntropyBackward0>)\n",
            "tensor(0.3085, grad_fn=<BinaryCrossEntropyBackward0>)\n",
            "tensor(0.2947, grad_fn=<BinaryCrossEntropyBackward0>)\n",
            "tensor(0.2817, grad_fn=<BinaryCrossEntropyBackward0>)\n",
            "tensor(0.2695, grad_fn=<BinaryCrossEntropyBackward0>)\n",
            "tensor(0.2578, grad_fn=<BinaryCrossEntropyBackward0>)\n",
            "tensor(0.2467, grad_fn=<BinaryCrossEntropyBackward0>)\n"
          ]
        }
      ]
    },
    {
      "cell_type": "code",
      "execution_count": null,
      "metadata": {
        "colab": {
          "base_uri": "https://localhost:8080/"
        },
        "id": "vP8g7LHvTMAZ",
        "outputId": "fdd3e867-90cf-42ef-fa65-445c4166fe37"
      },
      "outputs": [
        {
          "output_type": "stream",
          "name": "stdout",
          "text": [
            "Accuracy without Activation Functions: 0.864\n",
            "Accuracy with Activation Functions: 0.897\n"
          ]
        }
      ],
      "source": [
        "print(\"Accuracy without Activation Functions:\", accuracy_without_activation)\n",
        "print(\"Accuracy with Activation Functions:\", accuracy_with_activation)"
      ]
    },
    {
      "cell_type": "markdown",
      "source": [
        "Note there may be situations where the adding of activation function decreases performance. This could be because adding activations causes overfitting. And maybe adding dropout could be useful."
      ],
      "metadata": {
        "id": "QopRic-6YvKb"
      }
    }
  ]
}