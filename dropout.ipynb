{
  "nbformat": 4,
  "nbformat_minor": 0,
  "metadata": {
    "colab": {
      "provenance": []
    },
    "kernelspec": {
      "name": "python3",
      "display_name": "Python 3"
    },
    "language_info": {
      "name": "python"
    }
  },
  "cells": [
    {
      "cell_type": "markdown",
      "source": [
        "Let's investigate the use of drop out in neural networks and compare the performance of a network with dropout and without dropout"
      ],
      "metadata": {
        "id": "Gz9MDCVxtScG"
      }
    },
    {
      "cell_type": "code",
      "execution_count": null,
      "metadata": {
        "id": "ETfB5JmgtPro"
      },
      "outputs": [],
      "source": [
        "import numpy as np\n",
        "import torch\n",
        "import torch.nn as nn\n",
        "import torch.optim as optim\n",
        "import torch.nn.functional as F\n",
        "from sklearn.datasets import make_classification\n",
        "from sklearn.model_selection import train_test_split\n",
        "from sklearn.metrics import accuracy_score"
      ]
    },
    {
      "cell_type": "code",
      "source": [
        "INPUT_DIM = 128 # Number of features"
      ],
      "metadata": {
        "id": "v-3xLNEYtW3F"
      },
      "execution_count": null,
      "outputs": []
    },
    {
      "cell_type": "code",
      "source": [
        "# Generate synthetic data\n",
        "X, y = make_classification(\n",
        "    n_samples=300,\n",
        "    n_features=INPUT_DIM,\n",
        "    n_informative=INPUT_DIM,\n",
        "    n_redundant=0,\n",
        "    random_state=7\n",
        ")"
      ],
      "metadata": {
        "id": "q0GiuJ6StYL-"
      },
      "execution_count": null,
      "outputs": []
    },
    {
      "cell_type": "code",
      "source": [
        "# Split the data into training and testing sets\n",
        "X_train, X_test, y_train, y_test = train_test_split(X, y, test_size=0.2, random_state=42)"
      ],
      "metadata": {
        "id": "YzXd-DTktZan"
      },
      "execution_count": null,
      "outputs": []
    },
    {
      "cell_type": "code",
      "source": [
        "X_train.shape, X_test.shape"
      ],
      "metadata": {
        "colab": {
          "base_uri": "https://localhost:8080/"
        },
        "id": "mquKReMS2APY",
        "outputId": "7cdd790c-b408-4d10-e2e7-99165e6b85da"
      },
      "execution_count": null,
      "outputs": [
        {
          "output_type": "execute_result",
          "data": {
            "text/plain": [
              "((240, 128), (60, 128))"
            ]
          },
          "metadata": {},
          "execution_count": 9
        }
      ]
    },
    {
      "cell_type": "code",
      "source": [
        "# Convert data to PyTorch tensors\n",
        "X_train_tensor = torch.FloatTensor(X_train)\n",
        "y_train_tensor = torch.FloatTensor(y_train)\n",
        "X_test_tensor = torch.FloatTensor(X_test)\n",
        "y_test_tensor = torch.FloatTensor(y_test)"
      ],
      "metadata": {
        "id": "7VPTUlSetbSI"
      },
      "execution_count": null,
      "outputs": []
    },
    {
      "cell_type": "code",
      "source": [
        "class NeuralNetwork(nn.Module):\n",
        "    def __init__(self, use_dropout):\n",
        "        super(NeuralNetwork, self).__init__()\n",
        "        self.fc1 = nn.Linear(INPUT_DIM, 64)\n",
        "        self.fc2 = nn.Linear(64, 16)\n",
        "        self.fc3 = nn.Linear(16, 1)\n",
        "        self.dropout1 = nn.Dropout(0.2) # Probability of neuron \"off\" = 20%\n",
        "        self.dropout2 = nn.Dropout(0.2)\n",
        "        self.act1 = nn.ReLU()\n",
        "        self.act2 = nn.ReLU()\n",
        "        self.use_dropout = use_dropout\n",
        "\n",
        "    def forward(self, x):\n",
        "        x = self.act1(self.fc1(x))\n",
        "        x = self.dropout1(x) if self.use_dropout else x\n",
        "        x = self.act2(self.fc2(x))\n",
        "        x = self.dropout2(x) if self.use_dropout else x\n",
        "        x = self.fc3(x)\n",
        "        x = torch.sigmoid(x)\n",
        "        return x"
      ],
      "metadata": {
        "id": "czv2kRVJtcse"
      },
      "execution_count": null,
      "outputs": []
    },
    {
      "cell_type": "code",
      "source": [
        "# Function to train and evaluate the model\n",
        "def train_and_evaluate(model):\n",
        "    criterion = nn.BCELoss()\n",
        "    optimizer = optim.Adam(model.parameters(), lr=0.001)\n",
        "\n",
        "    # Training loop\n",
        "    for epoch in range(100):\n",
        "        optimizer.zero_grad()\n",
        "        outputs = model(X_train_tensor)\n",
        "        loss = criterion(outputs, y_train_tensor.view(-1, 1))\n",
        "        if epoch % 5 == 0:\n",
        "          print(loss)\n",
        "        loss.backward()\n",
        "        optimizer.step()\n",
        "\n",
        "    # Evaluate the model on the test set\n",
        "    with torch.no_grad():\n",
        "        model.eval()\n",
        "        pred = model(X_test_tensor)\n",
        "        predictions = (pred > 0.5).float().numpy()\n",
        "        accuracy = accuracy_score(y_test_tensor, predictions)\n",
        "\n",
        "    return accuracy"
      ],
      "metadata": {
        "id": "qypfKtoIteVK"
      },
      "execution_count": null,
      "outputs": []
    },
    {
      "cell_type": "code",
      "source": [
        "# Create and train the model without dropout\n",
        "model_without_dropout = NeuralNetwork(use_dropout=False)\n",
        "accuracy_without_dropout = train_and_evaluate(model_without_dropout)"
      ],
      "metadata": {
        "colab": {
          "base_uri": "https://localhost:8080/"
        },
        "id": "wZFLqFqNtwmx",
        "outputId": "885cc489-27dc-473e-8b58-9124729d9cb7"
      },
      "execution_count": null,
      "outputs": [
        {
          "output_type": "stream",
          "name": "stdout",
          "text": [
            "tensor(0.7545, grad_fn=<BinaryCrossEntropyBackward0>)\n",
            "tensor(0.6060, grad_fn=<BinaryCrossEntropyBackward0>)\n",
            "tensor(0.4941, grad_fn=<BinaryCrossEntropyBackward0>)\n",
            "tensor(0.3908, grad_fn=<BinaryCrossEntropyBackward0>)\n",
            "tensor(0.2944, grad_fn=<BinaryCrossEntropyBackward0>)\n",
            "tensor(0.2088, grad_fn=<BinaryCrossEntropyBackward0>)\n",
            "tensor(0.1380, grad_fn=<BinaryCrossEntropyBackward0>)\n",
            "tensor(0.0855, grad_fn=<BinaryCrossEntropyBackward0>)\n",
            "tensor(0.0512, grad_fn=<BinaryCrossEntropyBackward0>)\n",
            "tensor(0.0300, grad_fn=<BinaryCrossEntropyBackward0>)\n",
            "tensor(0.0179, grad_fn=<BinaryCrossEntropyBackward0>)\n",
            "tensor(0.0113, grad_fn=<BinaryCrossEntropyBackward0>)\n",
            "tensor(0.0076, grad_fn=<BinaryCrossEntropyBackward0>)\n",
            "tensor(0.0055, grad_fn=<BinaryCrossEntropyBackward0>)\n",
            "tensor(0.0042, grad_fn=<BinaryCrossEntropyBackward0>)\n",
            "tensor(0.0034, grad_fn=<BinaryCrossEntropyBackward0>)\n",
            "tensor(0.0028, grad_fn=<BinaryCrossEntropyBackward0>)\n",
            "tensor(0.0024, grad_fn=<BinaryCrossEntropyBackward0>)\n",
            "tensor(0.0021, grad_fn=<BinaryCrossEntropyBackward0>)\n",
            "tensor(0.0019, grad_fn=<BinaryCrossEntropyBackward0>)\n"
          ]
        }
      ]
    },
    {
      "cell_type": "code",
      "source": [
        "# Create and train the model without dropout\n",
        "model_with_dropout = NeuralNetwork(use_dropout=True)\n",
        "accuracy_with_dropout = train_and_evaluate(model_with_dropout)"
      ],
      "metadata": {
        "colab": {
          "base_uri": "https://localhost:8080/"
        },
        "id": "TCyO7ZeEt69l",
        "outputId": "1f624d86-f3f4-4203-eb55-98112c71708c"
      },
      "execution_count": null,
      "outputs": [
        {
          "output_type": "stream",
          "name": "stdout",
          "text": [
            "tensor(0.7664, grad_fn=<BinaryCrossEntropyBackward0>)\n",
            "tensor(0.6336, grad_fn=<BinaryCrossEntropyBackward0>)\n",
            "tensor(0.5635, grad_fn=<BinaryCrossEntropyBackward0>)\n",
            "tensor(0.5094, grad_fn=<BinaryCrossEntropyBackward0>)\n",
            "tensor(0.4458, grad_fn=<BinaryCrossEntropyBackward0>)\n",
            "tensor(0.3597, grad_fn=<BinaryCrossEntropyBackward0>)\n",
            "tensor(0.2605, grad_fn=<BinaryCrossEntropyBackward0>)\n",
            "tensor(0.2278, grad_fn=<BinaryCrossEntropyBackward0>)\n",
            "tensor(0.1905, grad_fn=<BinaryCrossEntropyBackward0>)\n",
            "tensor(0.1346, grad_fn=<BinaryCrossEntropyBackward0>)\n",
            "tensor(0.0949, grad_fn=<BinaryCrossEntropyBackward0>)\n",
            "tensor(0.0804, grad_fn=<BinaryCrossEntropyBackward0>)\n",
            "tensor(0.0653, grad_fn=<BinaryCrossEntropyBackward0>)\n",
            "tensor(0.0487, grad_fn=<BinaryCrossEntropyBackward0>)\n",
            "tensor(0.0351, grad_fn=<BinaryCrossEntropyBackward0>)\n",
            "tensor(0.0259, grad_fn=<BinaryCrossEntropyBackward0>)\n",
            "tensor(0.0211, grad_fn=<BinaryCrossEntropyBackward0>)\n",
            "tensor(0.0192, grad_fn=<BinaryCrossEntropyBackward0>)\n",
            "tensor(0.0161, grad_fn=<BinaryCrossEntropyBackward0>)\n",
            "tensor(0.0138, grad_fn=<BinaryCrossEntropyBackward0>)\n"
          ]
        }
      ]
    },
    {
      "cell_type": "code",
      "source": [
        "print(\"Accuracy without dropout :\", accuracy_without_dropout)\n",
        "print(\"Accuracy with dropout:\", accuracy_with_dropout)"
      ],
      "metadata": {
        "colab": {
          "base_uri": "https://localhost:8080/"
        },
        "id": "PSiC_maEt70k",
        "outputId": "1a79d326-4565-493a-f0fe-7538c34e01a9"
      },
      "execution_count": null,
      "outputs": [
        {
          "output_type": "stream",
          "name": "stdout",
          "text": [
            "Accuracy without dropout : 0.7\n",
            "Accuracy with dropout: 0.7333333333333333\n"
          ]
        }
      ]
    },
    {
      "cell_type": "markdown",
      "source": [
        "Overfitting can occur in the following cases:\n",
        "- Complex architecture\n",
        "- Less data samples\n",
        "\n",
        "Hence adding dropout can mitigate overfitting"
      ],
      "metadata": {
        "id": "N4AFJ9jbwDVK"
      }
    },
    {
      "cell_type": "code",
      "source": [],
      "metadata": {
        "id": "N5ngZV85wDB5"
      },
      "execution_count": null,
      "outputs": []
    }
  ]
}