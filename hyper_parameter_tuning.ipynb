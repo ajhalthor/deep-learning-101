{
  "nbformat": 4,
  "nbformat_minor": 0,
  "metadata": {
    "colab": {
      "provenance": [],
      "gpuType": "T4"
    },
    "kernelspec": {
      "name": "python3",
      "display_name": "Python 3"
    },
    "language_info": {
      "name": "python"
    },
    "accelerator": "GPU"
  },
  "cells": [
    {
      "cell_type": "markdown",
      "source": [
        "In this notebook, we will use perform hyper parameter tuning of a neural network with grid search."
      ],
      "metadata": {
        "id": "WTqFfz0qPi6Y"
      }
    },
    {
      "cell_type": "code",
      "source": [
        "!pip install skorch"
      ],
      "metadata": {
        "colab": {
          "base_uri": "https://localhost:8080/"
        },
        "id": "EFl6p67zrGwd",
        "outputId": "b319719d-c946-4df9-d133-d1c8b6922f8f"
      },
      "execution_count": null,
      "outputs": [
        {
          "output_type": "stream",
          "name": "stdout",
          "text": [
            "Collecting skorch\n",
            "  Downloading skorch-0.15.0-py3-none-any.whl (239 kB)\n",
            "\u001b[2K     \u001b[90m━━━━━━━━━━━━━━━━━━━━━━━━━━━━━━━━━━━━━━━━\u001b[0m \u001b[32m239.3/239.3 kB\u001b[0m \u001b[31m1.6 MB/s\u001b[0m eta \u001b[36m0:00:00\u001b[0m\n",
            "\u001b[?25hRequirement already satisfied: numpy>=1.13.3 in /usr/local/lib/python3.10/dist-packages (from skorch) (1.25.2)\n",
            "Requirement already satisfied: scikit-learn>=0.22.0 in /usr/local/lib/python3.10/dist-packages (from skorch) (1.2.2)\n",
            "Requirement already satisfied: scipy>=1.1.0 in /usr/local/lib/python3.10/dist-packages (from skorch) (1.11.4)\n",
            "Requirement already satisfied: tabulate>=0.7.7 in /usr/local/lib/python3.10/dist-packages (from skorch) (0.9.0)\n",
            "Requirement already satisfied: tqdm>=4.14.0 in /usr/local/lib/python3.10/dist-packages (from skorch) (4.66.2)\n",
            "Requirement already satisfied: joblib>=1.1.1 in /usr/local/lib/python3.10/dist-packages (from scikit-learn>=0.22.0->skorch) (1.3.2)\n",
            "Requirement already satisfied: threadpoolctl>=2.0.0 in /usr/local/lib/python3.10/dist-packages (from scikit-learn>=0.22.0->skorch) (3.3.0)\n",
            "Installing collected packages: skorch\n",
            "Successfully installed skorch-0.15.0\n"
          ]
        }
      ]
    },
    {
      "cell_type": "code",
      "source": [
        "import numpy as np\n",
        "import torch\n",
        "import torch.nn as nn\n",
        "import torch.optim as optim\n",
        "from sklearn.datasets import fetch_california_housing\n",
        "from sklearn.model_selection import train_test_split\n",
        "from sklearn.preprocessing import StandardScaler\n",
        "from sklearn.model_selection import GridSearchCV\n",
        "from skorch import NeuralNetRegressor"
      ],
      "metadata": {
        "id": "zJhQFWBwn874"
      },
      "execution_count": null,
      "outputs": []
    },
    {
      "cell_type": "code",
      "source": [
        "# Load the California Housing dataset\n",
        "housing = fetch_california_housing()\n",
        "X, y = housing.data, housing.target"
      ],
      "metadata": {
        "id": "a9a8reQSn9lG"
      },
      "execution_count": null,
      "outputs": []
    },
    {
      "cell_type": "code",
      "source": [
        "X.shape, y.shape"
      ],
      "metadata": {
        "colab": {
          "base_uri": "https://localhost:8080/"
        },
        "id": "wdxWx-r-o1oQ",
        "outputId": "5de21a9e-00bb-4274-b016-741ce42e98f6"
      },
      "execution_count": null,
      "outputs": [
        {
          "output_type": "execute_result",
          "data": {
            "text/plain": [
              "((20640, 8), (20640,))"
            ]
          },
          "metadata": {},
          "execution_count": 5
        }
      ]
    },
    {
      "cell_type": "code",
      "source": [
        "print(housing.feature_names)"
      ],
      "metadata": {
        "colab": {
          "base_uri": "https://localhost:8080/"
        },
        "id": "i0vrwiSKocY_",
        "outputId": "48ec874d-754a-4ab8-925c-a6bf6a8c4a72"
      },
      "execution_count": null,
      "outputs": [
        {
          "output_type": "stream",
          "name": "stdout",
          "text": [
            "['MedInc', 'HouseAge', 'AveRooms', 'AveBedrms', 'Population', 'AveOccup', 'Latitude', 'Longitude']\n"
          ]
        }
      ]
    },
    {
      "cell_type": "code",
      "source": [
        "# Standardize the features\n",
        "scaler = StandardScaler()\n",
        "X = scaler.fit_transform(X)"
      ],
      "metadata": {
        "id": "kO59UKYZoArF"
      },
      "execution_count": null,
      "outputs": []
    },
    {
      "cell_type": "code",
      "source": [
        "# Split the dataset into train and test sets\n",
        "X_train, X_test, y_train, y_test = train_test_split(X, y, test_size=0.2, random_state=42)"
      ],
      "metadata": {
        "id": "Ls_NM0d1oLHt"
      },
      "execution_count": null,
      "outputs": []
    },
    {
      "cell_type": "code",
      "source": [
        "# Convert data to PyTorch tensors\n",
        "X_train_tensor = torch.FloatTensor(X_train)\n",
        "y_train_tensor = torch.FloatTensor(y_train)\n",
        "X_test_tensor = torch.FloatTensor(X_test)\n",
        "y_test_tensor = torch.FloatTensor(y_test)"
      ],
      "metadata": {
        "id": "o-qOEBz8oMVF"
      },
      "execution_count": null,
      "outputs": []
    },
    {
      "cell_type": "code",
      "source": [
        "class RegressionModel(nn.Module):\n",
        "    def __init__(self):\n",
        "        super(RegressionModel, self).__init__()\n",
        "        self.fc1 = nn.Linear(X.shape[1], 64)\n",
        "        self.fc2 = nn.Linear(64, 32)\n",
        "        self.fc3 = nn.Linear(32, 1)\n",
        "\n",
        "    def forward(self, x):\n",
        "        x = torch.relu(self.fc1(x))\n",
        "        x = torch.relu(self.fc2(x))\n",
        "        x = self.fc3(x)\n",
        "        return x"
      ],
      "metadata": {
        "id": "4hLGgFF-o-2E"
      },
      "execution_count": null,
      "outputs": []
    },
    {
      "cell_type": "code",
      "source": [
        "# create model with skorch\n",
        "model = NeuralNetRegressor(\n",
        "    RegressionModel,\n",
        "    criterion=nn.MSELoss,\n",
        "    optimizer=optim.Adam,\n",
        "    verbose=False\n",
        ")"
      ],
      "metadata": {
        "id": "-kd2qvYrq-O6"
      },
      "execution_count": null,
      "outputs": []
    },
    {
      "cell_type": "code",
      "source": [
        "model.set_params(train_split=False, verbose=0)\n",
        "param_grid = {\n",
        "    'max_epochs': [1, 2],\n",
        "    'lr': [0.01, 0.1], #[0.001, 0.005, 0.01, 0.05, 0.1],\n",
        "    'batch_size': [8, 32] #[8, 32, 64, 128, 256]\n",
        "}\n",
        "\n",
        "grid = GridSearchCV(estimator=model, param_grid=param_grid, n_jobs=-1, cv=3)\n",
        "grid.fit(X_train_tensor, y_train_tensor)"
      ],
      "metadata": {
        "colab": {
          "base_uri": "https://localhost:8080/"
        },
        "id": "4gvKiAEgpMzF",
        "outputId": "3e0233e1-5c12-404b-db11-89aed5f0227e"
      },
      "execution_count": null,
      "outputs": [
        {
          "output_type": "stream",
          "name": "stderr",
          "text": [
            "/usr/local/lib/python3.10/dist-packages/torch/nn/modules/loss.py:535: UserWarning: Using a target size (torch.Size([8])) that is different to the input size (torch.Size([8, 1])). This will likely lead to incorrect results due to broadcasting. Please ensure they have the same size.\n",
            "  return F.mse_loss(input, target, reduction=self.reduction)\n"
          ]
        }
      ]
    },
    {
      "cell_type": "code",
      "source": [
        "print(grid.best_score_, grid.best_params_)"
      ],
      "metadata": {
        "colab": {
          "base_uri": "https://localhost:8080/"
        },
        "id": "phRxk06IwJus",
        "outputId": "5d3f017a-52c7-451c-865e-d60e67747d63"
      },
      "execution_count": null,
      "outputs": [
        {
          "output_type": "stream",
          "name": "stdout",
          "text": [
            "0.13502475212623363 {'batch_size': 8, 'lr': 0.01, 'max_epochs': 2}\n"
          ]
        }
      ]
    },
    {
      "cell_type": "code",
      "source": [
        "grid.cv_results_"
      ],
      "metadata": {
        "colab": {
          "base_uri": "https://localhost:8080/"
        },
        "id": "fe6GKM3HwOa6",
        "outputId": "326d819a-1238-43b4-c46e-f791ad9c05a8"
      },
      "execution_count": null,
      "outputs": [
        {
          "output_type": "execute_result",
          "data": {
            "text/plain": [
              "{'mean_fit_time': array([5.11460638, 6.8939383 , 3.41022515, 7.2747968 , 0.94423834,\n",
              "        1.82287892, 1.25997376, 1.87440093]),\n",
              " 'std_fit_time': array([1.37516314, 0.5178979 , 0.24316378, 0.47778399, 0.00993003,\n",
              "        0.03720657, 0.24561108, 0.50147937]),\n",
              " 'mean_score_time': array([0.56662035, 0.46225031, 0.43085766, 0.4373711 , 0.1906174 ,\n",
              "        0.21317228, 0.28664454, 0.16376392]),\n",
              " 'std_score_time': array([0.09755873, 0.03743579, 0.01534669, 0.00997535, 0.00232365,\n",
              "        0.04288649, 0.03798626, 0.04552409]),\n",
              " 'param_batch_size': masked_array(data=[8, 8, 8, 8, 32, 32, 32, 32],\n",
              "              mask=[False, False, False, False, False, False, False, False],\n",
              "        fill_value='?',\n",
              "             dtype=object),\n",
              " 'param_lr': masked_array(data=[0.01, 0.01, 0.1, 0.1, 0.01, 0.01, 0.1, 0.1],\n",
              "              mask=[False, False, False, False, False, False, False, False],\n",
              "        fill_value='?',\n",
              "             dtype=object),\n",
              " 'param_max_epochs': masked_array(data=[1, 2, 1, 2, 1, 2, 1, 2],\n",
              "              mask=[False, False, False, False, False, False, False, False],\n",
              "        fill_value='?',\n",
              "             dtype=object),\n",
              " 'params': [{'batch_size': 8, 'lr': 0.01, 'max_epochs': 1},\n",
              "  {'batch_size': 8, 'lr': 0.01, 'max_epochs': 2},\n",
              "  {'batch_size': 8, 'lr': 0.1, 'max_epochs': 1},\n",
              "  {'batch_size': 8, 'lr': 0.1, 'max_epochs': 2},\n",
              "  {'batch_size': 32, 'lr': 0.01, 'max_epochs': 1},\n",
              "  {'batch_size': 32, 'lr': 0.01, 'max_epochs': 2},\n",
              "  {'batch_size': 32, 'lr': 0.1, 'max_epochs': 1},\n",
              "  {'batch_size': 32, 'lr': 0.1, 'max_epochs': 2}],\n",
              " 'split0_test_score': array([ 0.00780051,  0.16550302, -0.06365964, -0.06710084,  0.02907173,\n",
              "         0.04623426, -0.00021143,  0.01962957]),\n",
              " 'split1_test_score': array([ 0.08302733,  0.15449416, -0.07565347, -0.08101615, -0.04622373,\n",
              "         0.04250467,  0.01707237,  0.00015718]),\n",
              " 'split2_test_score': array([ 0.09738551,  0.08507708, -0.04462994, -0.04408899,  0.00180607,\n",
              "         0.00816334, -0.00496767, -0.01157015]),\n",
              " 'mean_test_score': array([ 0.06273778,  0.13502475, -0.06131435, -0.06406866, -0.00511531,\n",
              "         0.03230076,  0.00396442,  0.00273887]),\n",
              " 'std_test_score': array([0.03928628, 0.03560314, 0.01277341, 0.01522715, 0.03112641,\n",
              "        0.01713551, 0.00946992, 0.01286739]),\n",
              " 'rank_test_score': array([2, 1, 7, 8, 6, 3, 4, 5], dtype=int32)}"
            ]
          },
          "metadata": {},
          "execution_count": 17
        }
      ]
    },
    {
      "cell_type": "markdown",
      "source": [
        "## Verdict\n",
        "\n",
        "We can change the `param_grid` to include other hyper parameters like activation functions, dropout rate and more.\n",
        "\n",
        "## Resources\n",
        "\n",
        "1. Scorch documentation: https://skorch.readthedocs.io/en/stable/user/quickstart.html#grid-search\n",
        "2. Sklearn GridSearchCV documentation: https://scikit-learn.org/stable/modules/generated/sklearn.model_selection.GridSearchCV.html\n",
        "3. Link to housing dataset documentation: https://scikit-learn.org/stable/modules/generated/sklearn.datasets.fetch_california_housing.html\n"
      ],
      "metadata": {
        "id": "77cd12yAPu-s"
      }
    }
  ]
}